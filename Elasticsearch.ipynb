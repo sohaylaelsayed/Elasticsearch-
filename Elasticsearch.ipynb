{
 "cells": [
  {
   "cell_type": "code",
   "execution_count": 1,
   "id": "9e5f18f8",
   "metadata": {},
   "outputs": [
    {
     "name": "stdout",
     "output_type": "stream",
     "text": [
      "Requirement already satisfied: pandas in c:\\users\\sohay\\appdata\\local\\programs\\python\\python37\\lib\\site-packages (1.1.5)\n",
      "Requirement already satisfied: python-dateutil>=2.7.3 in c:\\users\\sohay\\appdata\\local\\programs\\python\\python37\\lib\\site-packages (from pandas) (2.8.2)\n",
      "Requirement already satisfied: pytz>=2017.2 in c:\\users\\sohay\\appdata\\local\\programs\\python\\python37\\lib\\site-packages (from pandas) (2021.3)\n",
      "Requirement already satisfied: numpy>=1.15.4 in c:\\users\\sohay\\appdata\\local\\programs\\python\\python37\\lib\\site-packages (from pandas) (1.21.5)\n",
      "Requirement already satisfied: six>=1.5 in c:\\users\\sohay\\appdata\\local\\programs\\python\\python37\\lib\\site-packages (from python-dateutil>=2.7.3->pandas) (1.16.0)\n"
     ]
    }
   ],
   "source": [
    "!pip install pandas"
   ]
  },
  {
   "cell_type": "code",
   "execution_count": 2,
   "id": "763d9130",
   "metadata": {},
   "outputs": [
    {
     "name": "stdout",
     "output_type": "stream",
     "text": [
      "Requirement already satisfied: elasticsearch in c:\\users\\sohay\\appdata\\local\\programs\\python\\python37\\lib\\site-packages (7.16.2)\n",
      "Requirement already satisfied: certifi in c:\\users\\sohay\\appdata\\local\\programs\\python\\python37\\lib\\site-packages (from elasticsearch) (2021.10.8)\n",
      "Requirement already satisfied: urllib3<2,>=1.21.1 in c:\\users\\sohay\\appdata\\local\\programs\\python\\python37\\lib\\site-packages (from elasticsearch) (1.26.7)\n"
     ]
    }
   ],
   "source": [
    "! pip install elasticsearch"
   ]
  },
  {
   "cell_type": "code",
   "execution_count": 1,
   "id": "208a3e12",
   "metadata": {},
   "outputs": [],
   "source": [
    "import sys\n",
    "import json\n",
    "import csv\n",
    "from pprint import pprint\n",
    "from elasticsearch import Elasticsearch,helpers\n",
    "import pandas as pd\n"
   ]
  },
  {
   "cell_type": "code",
   "execution_count": 2,
   "id": "fe0ee25d",
   "metadata": {},
   "outputs": [],
   "source": [
    "# Elastic search configuation\n",
    "\n",
    "es = Elasticsearch(HOST=\"http://localhost\", PORT=9200)\n",
    "es = Elasticsearch()"
   ]
  },
  {
   "cell_type": "code",
   "execution_count": null,
   "id": "ace1c83c",
   "metadata": {},
   "outputs": [],
   "source": [
    "# Creating index\n",
    "#Myreviews= pd.read_csv(r\"C:\\Users\\sohay\\OneDrive\\Desktop\\Elasticsearch\\trumptweets.csv\")\n",
    "with open('C:\\\\Users\\\\sohay\\\\OneDrive\\\\Desktop\\\\Elasticsearch\\\\trumptweets.csv',encoding=\"utf8\") as f:\n",
    "    Myreviews = csv.DictReader(f)\n",
    "    helpers.bulk(es, Myreviews, index='tweets')\n"
   ]
  },
  {
   "cell_type": "code",
   "execution_count": null,
   "id": "09a5235d",
   "metadata": {},
   "outputs": [],
   "source": []
  },
  {
   "cell_type": "code",
   "execution_count": null,
   "id": "56c4ace2",
   "metadata": {},
   "outputs": [],
   "source": []
  }
 ],
 "metadata": {
  "kernelspec": {
   "display_name": "Python 3 (ipykernel)",
   "language": "python",
   "name": "python3"
  },
  "language_info": {
   "codemirror_mode": {
    "name": "ipython",
    "version": 3
   },
   "file_extension": ".py",
   "mimetype": "text/x-python",
   "name": "python",
   "nbconvert_exporter": "python",
   "pygments_lexer": "ipython3",
   "version": "3.7.0"
  }
 },
 "nbformat": 4,
 "nbformat_minor": 5
}
